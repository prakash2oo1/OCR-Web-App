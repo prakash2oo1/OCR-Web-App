{
 "cells": [
  {
   "cell_type": "code",
   "execution_count": 5,
   "metadata": {},
   "outputs": [
    {
     "name": "stderr",
     "output_type": "stream",
     "text": [
      "2024-09-30 00:27:22.451 WARNING streamlit.runtime.scriptrunner_utils.script_run_context: Thread 'MainThread': missing ScriptRunContext! This warning can be ignored when running in bare mode.\n",
      "2024-09-30 00:27:22.514 \n",
      "  \u001b[33m\u001b[1mWarning:\u001b[0m to view this Streamlit app on a browser, run it with the following\n",
      "  command:\n",
      "\n",
      "    streamlit run c:\\Users\\praka\\OneDrive\\Desktop\\Parimal\\.venv\\Lib\\site-packages\\ipykernel_launcher.py [ARGUMENTS]\n",
      "2024-09-30 00:27:22.514 Thread 'MainThread': missing ScriptRunContext! This warning can be ignored when running in bare mode.\n",
      "2024-09-30 00:27:22.514 Thread 'MainThread': missing ScriptRunContext! This warning can be ignored when running in bare mode.\n",
      "2024-09-30 00:27:22.514 Thread 'MainThread': missing ScriptRunContext! This warning can be ignored when running in bare mode.\n",
      "2024-09-30 00:27:22.521 Thread 'MainThread': missing ScriptRunContext! This warning can be ignored when running in bare mode.\n",
      "2024-09-30 00:27:22.521 Thread 'MainThread': missing ScriptRunContext! This warning can be ignored when running in bare mode.\n"
     ]
    }
   ],
   "source": [
    "import streamlit as st\n",
    "import pytesseract\n",
    "import cv2\n",
    "import numpy as np\n",
    "from PIL import Image\n",
    "import re\n",
    "\n",
    "# Title of the web app\n",
    "st.title(\"OCR Text Extraction and Search\")\n",
    "\n",
    "# Upload image\n",
    "uploaded_file = st.file_uploader(\"Choose an image...\", type=[\"jpg\", \"jpeg\", \"png\"])\n",
    "\n",
    "if uploaded_file is not None:\n",
    "    # Read the image\n",
    "    image = Image.open(uploaded_file)\n",
    "    st.image(image, caption='Uploaded Image.', use_column_width=True)\n",
    "    st.write(\"\")\n",
    "    st.write(\"Classifying...\")\n",
    "\n",
    "    # Convert image to array and apply OCR\n",
    "    image_array = np.array(image)\n",
    "    gray = cv2.cvtColor(image_array, cv2.COLOR_BGR2GRAY)\n",
    "\n",
    "    # Use Tesseract to extract text\n",
    "    extracted_text = pytesseract.image_to_string(gray, lang='eng+hin')\n",
    "\n",
    "    # Display the extracted text\n",
    "    st.subheader(\"Extracted Text:\")\n",
    "    st.write(extracted_text)\n",
    "\n",
    "    # Keyword search functionality\n",
    "    keyword = st.text_input(\"Enter a keyword to search:\")\n",
    "    if keyword:\n",
    "        matches = re.findall(rf\"({re.escape(keyword)})\", extracted_text, re.IGNORECASE)\n",
    "        if matches:\n",
    "            st.success(f\"Keyword '{keyword}' found {len(matches)} time(s)!\")\n",
    "            st.markdown(f\"**Matching sections:** {extracted_text}\")\n",
    "        else:\n",
    "            st.warning(f\"Keyword '{keyword}' not found.\")\n"
   ]
  },
  {
   "cell_type": "code",
   "execution_count": 2,
   "metadata": {},
   "outputs": [
    {
     "name": "stdout",
     "output_type": "stream",
     "text": [
      "Collecting pytesseract\n",
      "  Downloading pytesseract-0.3.13-py3-none-any.whl.metadata (11 kB)\n",
      "Requirement already satisfied: packaging>=21.3 in c:\\users\\praka\\onedrive\\desktop\\parimal\\.venv\\lib\\site-packages (from pytesseract) (24.1)\n",
      "Requirement already satisfied: Pillow>=8.0.0 in c:\\users\\praka\\onedrive\\desktop\\parimal\\.venv\\lib\\site-packages (from pytesseract) (10.4.0)\n",
      "Downloading pytesseract-0.3.13-py3-none-any.whl (14 kB)\n",
      "Installing collected packages: pytesseract\n",
      "Successfully installed pytesseract-0.3.13\n"
     ]
    }
   ],
   "source": [
    "!pip install pytesseract"
   ]
  },
  {
   "cell_type": "code",
   "execution_count": 4,
   "metadata": {},
   "outputs": [
    {
     "name": "stdout",
     "output_type": "stream",
     "text": [
      "Collecting opencv-python\n",
      "  Downloading opencv_python-4.10.0.84-cp37-abi3-win_amd64.whl.metadata (20 kB)\n",
      "Requirement already satisfied: numpy>=1.21.2 in c:\\users\\praka\\onedrive\\desktop\\parimal\\.venv\\lib\\site-packages (from opencv-python) (2.1.1)\n",
      "Downloading opencv_python-4.10.0.84-cp37-abi3-win_amd64.whl (38.8 MB)\n",
      "   ---------------------------------------- 0.0/38.8 MB ? eta -:--:--\n",
      "   ---------------------------------------- 0.3/38.8 MB ? eta -:--:--\n",
      "    --------------------------------------- 0.8/38.8 MB 1.7 MB/s eta 0:00:23\n",
      "   - -------------------------------------- 1.3/38.8 MB 2.4 MB/s eta 0:00:16\n",
      "   - -------------------------------------- 1.6/38.8 MB 2.0 MB/s eta 0:00:19\n",
      "   -- ------------------------------------- 2.4/38.8 MB 2.4 MB/s eta 0:00:16\n",
      "   --- ------------------------------------ 3.4/38.8 MB 2.8 MB/s eta 0:00:13\n",
      "   ---- ----------------------------------- 4.2/38.8 MB 3.0 MB/s eta 0:00:12\n",
      "   ----- ---------------------------------- 5.0/38.8 MB 3.1 MB/s eta 0:00:11\n",
      "   ----- ---------------------------------- 5.8/38.8 MB 3.1 MB/s eta 0:00:11\n",
      "   ------- -------------------------------- 6.8/38.8 MB 3.3 MB/s eta 0:00:10\n",
      "   ------- -------------------------------- 7.6/38.8 MB 3.4 MB/s eta 0:00:10\n",
      "   -------- ------------------------------- 8.4/38.8 MB 3.4 MB/s eta 0:00:09\n",
      "   --------- ------------------------------ 9.4/38.8 MB 3.5 MB/s eta 0:00:09\n",
      "   ---------- ----------------------------- 10.5/38.8 MB 3.6 MB/s eta 0:00:08\n",
      "   ----------- ---------------------------- 11.3/38.8 MB 3.6 MB/s eta 0:00:08\n",
      "   ------------ --------------------------- 12.1/38.8 MB 3.6 MB/s eta 0:00:08\n",
      "   ------------- -------------------------- 12.8/38.8 MB 3.6 MB/s eta 0:00:08\n",
      "   ------------- -------------------------- 13.4/38.8 MB 3.6 MB/s eta 0:00:08\n",
      "   -------------- ------------------------- 13.6/38.8 MB 3.5 MB/s eta 0:00:08\n",
      "   -------------- ------------------------- 14.2/38.8 MB 3.4 MB/s eta 0:00:08\n",
      "   --------------- ------------------------ 14.7/38.8 MB 3.4 MB/s eta 0:00:08\n",
      "   --------------- ------------------------ 15.5/38.8 MB 3.4 MB/s eta 0:00:07\n",
      "   ---------------- ----------------------- 16.0/38.8 MB 3.3 MB/s eta 0:00:07\n",
      "   ----------------- ---------------------- 16.8/38.8 MB 3.3 MB/s eta 0:00:07\n",
      "   ------------------ --------------------- 17.6/38.8 MB 3.3 MB/s eta 0:00:07\n",
      "   ------------------ --------------------- 18.4/38.8 MB 3.4 MB/s eta 0:00:07\n",
      "   ------------------- -------------------- 19.1/38.8 MB 3.4 MB/s eta 0:00:06\n",
      "   -------------------- ------------------- 20.2/38.8 MB 3.4 MB/s eta 0:00:06\n",
      "   --------------------- ------------------ 20.4/38.8 MB 3.4 MB/s eta 0:00:06\n",
      "   --------------------- ------------------ 21.0/38.8 MB 3.3 MB/s eta 0:00:06\n",
      "   ---------------------- ----------------- 21.5/38.8 MB 3.3 MB/s eta 0:00:06\n",
      "   ---------------------- ----------------- 22.3/38.8 MB 3.3 MB/s eta 0:00:05\n",
      "   ----------------------- ---------------- 23.1/38.8 MB 3.3 MB/s eta 0:00:05\n",
      "   ------------------------ --------------- 24.1/38.8 MB 3.4 MB/s eta 0:00:05\n",
      "   ------------------------- -------------- 24.9/38.8 MB 3.4 MB/s eta 0:00:05\n",
      "   -------------------------- ------------- 25.4/38.8 MB 3.4 MB/s eta 0:00:04\n",
      "   -------------------------- ------------- 26.2/38.8 MB 3.4 MB/s eta 0:00:04\n",
      "   --------------------------- ------------ 27.0/38.8 MB 3.4 MB/s eta 0:00:04\n",
      "   ---------------------------- ----------- 27.5/38.8 MB 3.4 MB/s eta 0:00:04\n",
      "   ----------------------------- ---------- 28.6/38.8 MB 3.4 MB/s eta 0:00:04\n",
      "   ----------------------------- ---------- 29.1/38.8 MB 3.4 MB/s eta 0:00:03\n",
      "   ------------------------------ --------- 29.6/38.8 MB 3.4 MB/s eta 0:00:03\n",
      "   ------------------------------- -------- 30.4/38.8 MB 3.4 MB/s eta 0:00:03\n",
      "   -------------------------------- ------- 31.5/38.8 MB 3.4 MB/s eta 0:00:03\n",
      "   --------------------------------- ------ 32.2/38.8 MB 3.4 MB/s eta 0:00:02\n",
      "   ---------------------------------- ----- 33.0/38.8 MB 3.4 MB/s eta 0:00:02\n",
      "   ----------------------------------- ---- 34.1/38.8 MB 3.4 MB/s eta 0:00:02\n",
      "   ----------------------------------- ---- 34.9/38.8 MB 3.4 MB/s eta 0:00:02\n",
      "   ------------------------------------ --- 35.7/38.8 MB 3.4 MB/s eta 0:00:01\n",
      "   ------------------------------------- -- 36.2/38.8 MB 3.4 MB/s eta 0:00:01\n",
      "   ------------------------------------- -- 36.7/38.8 MB 3.4 MB/s eta 0:00:01\n",
      "   -------------------------------------- - 37.5/38.8 MB 3.4 MB/s eta 0:00:01\n",
      "   -------------------------------------- - 37.7/38.8 MB 3.4 MB/s eta 0:00:01\n",
      "   ---------------------------------------  38.0/38.8 MB 3.3 MB/s eta 0:00:01\n",
      "   ---------------------------------------  38.8/38.8 MB 3.3 MB/s eta 0:00:01\n",
      "   ---------------------------------------- 38.8/38.8 MB 3.3 MB/s eta 0:00:00\n",
      "Installing collected packages: opencv-python\n",
      "Successfully installed opencv-python-4.10.0.84\n"
     ]
    }
   ],
   "source": [
    "!pip install opencv-python"
   ]
  }
 ],
 "metadata": {
  "kernelspec": {
   "display_name": ".venv",
   "language": "python",
   "name": "python3"
  },
  "language_info": {
   "codemirror_mode": {
    "name": "ipython",
    "version": 3
   },
   "file_extension": ".py",
   "mimetype": "text/x-python",
   "name": "python",
   "nbconvert_exporter": "python",
   "pygments_lexer": "ipython3",
   "version": "3.12.4"
  }
 },
 "nbformat": 4,
 "nbformat_minor": 2
}
